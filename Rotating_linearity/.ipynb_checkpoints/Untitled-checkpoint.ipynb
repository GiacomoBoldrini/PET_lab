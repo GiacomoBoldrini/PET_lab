{
 "cells": [
  {
   "cell_type": "code",
   "execution_count": 5,
   "metadata": {},
   "outputs": [],
   "source": [
    "import ROOT as r\n",
    "import numpy as np\n",
    "import matplotlib.pyplot as plt\n",
    "import math\n",
    "from array import array\n",
    "import glob\n",
    "from Linearfunc import ClassFunc\n",
    "\n",
    "r.gROOT.SetBatch(True)"
   ]
  },
  {
   "cell_type": "code",
   "execution_count": 6,
   "metadata": {},
   "outputs": [],
   "source": [
    "#reads velocities txt\n",
    "def Load_reading(userpath):\n",
    "    filepath = userpath\n",
    "    steps = []\n",
    "    degrees = []\n",
    "    with open(filepath) as fp:\n",
    "        line = fp.readline()\n",
    "        h = line.split(\",\")\n",
    "        while line:\n",
    "            steps.append(int(h[0]))\n",
    "            degrees.append(float(h[1].strip(\"\\n\")))\n",
    "            line = fp.readline()\n",
    "            h = line.split(\",\")\n",
    "    #this returns two colums lists of integers\n",
    "    return steps, degrees"
   ]
  },
  {
   "cell_type": "code",
   "execution_count": 7,
   "metadata": {},
   "outputs": [],
   "source": [
    "steps, degrees = Load_reading(\"/Users/boldrinicoder/lab4/Rotating_linearity/velocity_180.txt\")"
   ]
  },
  {
   "cell_type": "code",
   "execution_count": 8,
   "metadata": {},
   "outputs": [
    {
     "name": "stdout",
     "output_type": "stream",
     "text": [
      " FCN=3.1108 FROM MIGRAD    STATUS=CONVERGED      39 CALLS          40 TOTAL\n",
      "                     EDM=2.79819e-10    STRATEGY= 1      ERROR MATRIX ACCURATE \n",
      "  EXT PARAMETER                                   STEP         FIRST   \n",
      "  NO.   NAME      VALUE            ERROR          SIZE      DERIVATIVE \n",
      "   1  Slope        2.24503e-03   5.95914e-06   3.00000e-04  -7.18221e+00\n",
      "   2  Intercept   -8.29547e-01   5.64076e-01   3.00000e+00  -7.48021e-05\n"
     ]
    },
    {
     "name": "stderr",
     "output_type": "stream",
     "text": [
      "Info in <TCanvas::Print>: pdf file /Users/boldrinicoder/Desktop/prova.pdf has been created\n"
     ]
    }
   ],
   "source": [
    "ClassFunc.Linear_Plotter(len(steps), steps, degrees, np.zeros(len(steps)), [10]*(len(steps)), \"/Users/boldrinicoder/Desktop/prova\", \"steps [a.u.]\", \"Degrees\", \"Rotating Plate Linearity\")"
   ]
  },
  {
   "cell_type": "code",
   "execution_count": null,
   "metadata": {},
   "outputs": [],
   "source": []
  }
 ],
 "metadata": {
  "kernelspec": {
   "display_name": "Python 3",
   "language": "python",
   "name": "python3"
  },
  "language_info": {
   "codemirror_mode": {
    "name": "ipython",
    "version": 3
   },
   "file_extension": ".py",
   "mimetype": "text/x-python",
   "name": "python",
   "nbconvert_exporter": "python",
   "pygments_lexer": "ipython3",
   "version": "3.6.5rc1"
  }
 },
 "nbformat": 4,
 "nbformat_minor": 2
}
