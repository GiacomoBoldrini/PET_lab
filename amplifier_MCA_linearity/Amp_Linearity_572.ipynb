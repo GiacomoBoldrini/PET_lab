{
 "cells": [
  {
   "cell_type": "code",
   "execution_count": 1,
   "metadata": {},
   "outputs": [
    {
     "data": {
      "text/plain": [
       "'\\nReading linearity inputs and plotting linear regression\\n'"
      ]
     },
     "execution_count": 1,
     "metadata": {},
     "output_type": "execute_result"
    }
   ],
   "source": [
    "\"\"\"\n",
    "Reading linearity inputs and plotting linear regression\n",
    "\"\"\""
   ]
  },
  {
   "cell_type": "code",
   "execution_count": 2,
   "metadata": {},
   "outputs": [
    {
     "name": "stdout",
     "output_type": "stream",
     "text": [
      "Welcome to JupyROOT 6.14/06\n"
     ]
    }
   ],
   "source": [
    "import numpy as np\n",
    "import matplotlib.pyplot as plt\n",
    "import ROOT as r\n",
    "import math\n",
    "import datetime as dt"
   ]
  },
  {
   "cell_type": "code",
   "execution_count": 3,
   "metadata": {},
   "outputs": [],
   "source": [
    "def Linear_Plotter(x,y,errx,erry, path_name, i, data):\n",
    "    gr = r.TGraphErrors(8,x,y,errx,erry)\n",
    "    bottom = min(x)  \n",
    "    top = max(x)\n",
    "    fit = r.TF1(\"fit\", \"x[0]*[0]+[1]\",bottom,top, '--')\n",
    "    fit.SetLineColor(r.kBlue)\n",
    "    fit.SetParName(0,\"Gain\")\n",
    "    fit.SetParName(1,\"Intercept\")\n",
    "    c = r.TCanvas(\"c\", \"c\", 50,50, 1000, 800)\n",
    "    gr.Draw()\n",
    "    gr.SetTitle(\"Amplifier Linearity 575\")\n",
    "    gr.GetXaxis().SetTitle(\"Input voltage [V]\")\n",
    "    gr.GetYaxis().SetTitle(\"Amplified voltage [V]\")\n",
    "    gr.Fit(\"fit\")\n",
    "    r.gStyle.SetStatX(.9)\n",
    "    r.gStyle.SetStatY(.4)\n",
    "    r.gStyle.SetOptFit(1111)\n",
    "    c.SaveAs(output_dir + \"/Plot_{}_{}.pdf\".format(data,i), \"pdf\")"
   ]
  },
  {
   "cell_type": "code",
   "execution_count": 4,
   "metadata": {},
   "outputs": [],
   "source": [
    "#creates a directory\n",
    "def mkdir_p(mypath):\n",
    "\n",
    "    from errno import EEXIST\n",
    "    from os import makedirs,path\n",
    "\n",
    "    try:\n",
    "        makedirs(mypath)\n",
    "    except OSError as exc: \n",
    "        if exc.errno == EEXIST and path.isdir(mypath):\n",
    "            pass\n",
    "        else: raise"
   ]
  },
  {
   "cell_type": "code",
   "execution_count": 5,
   "metadata": {},
   "outputs": [],
   "source": [
    "#Defines today date\n",
    "def Today():\n",
    "    date = str(dt.datetime.now())\n",
    "    date = date.replace(\"-\", \"\")\n",
    "    date = date.replace(\" \", \"\")\n",
    "    date = date.replace(\":\", \"\")\n",
    "    date = date.replace(\".\", \"\")\n",
    "    date = date[2:8]\n",
    "    return date\n"
   ]
  },
  {
   "cell_type": "code",
   "execution_count": 6,
   "metadata": {},
   "outputs": [],
   "source": [
    "data = str(181123)"
   ]
  },
  {
   "cell_type": "code",
   "execution_count": 7,
   "metadata": {},
   "outputs": [],
   "source": [
    "output_dir = (\"/Users/boldrinicoder/lab4/amplifier_MCA_linearity\".format(data)) #inserting your path to lab directory\n",
    "mkdir_p(output_dir) #this creates a directory with today's date to contain plots etc (pay attention to overwriting)"
   ]
  },
  {
   "cell_type": "code",
   "execution_count": 8,
   "metadata": {},
   "outputs": [
    {
     "name": "stdout",
     "output_type": "stream",
     "text": [
      " FCN=3.26068 FROM MIGRAD    STATUS=CONVERGED      64 CALLS          65 TOTAL\n",
      "                     EDM=1.04812e-11    STRATEGY= 1      ERROR MATRIX ACCURATE \n",
      "  EXT PARAMETER                                   STEP         FIRST   \n",
      "  NO.   NAME      VALUE            ERROR          SIZE      DERIVATIVE \n",
      "   1  Gain         1.18465e+01   8.65509e-02   4.08687e-05  -8.91321e-05\n",
      "   2  Intercept   -9.69556e-02   4.15333e-02   1.96119e-05  -9.64197e-05\n",
      " FCN=1.11885 FROM MIGRAD    STATUS=CONVERGED      72 CALLS          73 TOTAL\n",
      "                     EDM=6.51788e-07    STRATEGY= 1      ERROR MATRIX ACCURATE \n",
      "  EXT PARAMETER                                   STEP         FIRST   \n",
      "  NO.   NAME      VALUE            ERROR          SIZE      DERIVATIVE \n",
      "   1  Gain         2.19403e+01   1.91036e-01   5.49571e-05   1.35913e-02\n",
      "   2  Intercept   -1.83450e-01   6.16567e-02   1.77367e-05   3.12670e-02\n"
     ]
    },
    {
     "name": "stderr",
     "output_type": "stream",
     "text": [
      "Info in <TCanvas::Print>: pdf file /Users/boldrinicoder/lab4/amplifier_MCA_linearity/Plot_181123_1.pdf has been created\n",
      "Info in <TCanvas::Print>: pdf file /Users/boldrinicoder/lab4/amplifier_MCA_linearity/Plot_181123_2.pdf has been created\n"
     ]
    }
   ],
   "source": [
    "i = 1 #index of first .txt\n",
    "n_measure_today = 3 #number of txt files (starting from 1 to nuymber_of_txt + 1)\n",
    "while i < n_measure_today:\n",
    "    x = np.loadtxt(\"/Users/boldrinicoder/lab4/data/{}/{}0{}.txt\".format(data,data,i),usecols = 0)\n",
    "    y = np.loadtxt(\"/Users/boldrinicoder/lab4/data/{}/{}0{}.txt\".format(data,data,i), usecols = 1)\n",
    "    errx = np.loadtxt(\"/Users/boldrinicoder/lab4/data/{}/{}0{}.txt\".format(data,data,i), usecols = 2)\n",
    "    erry = np.loadtxt(\"/Users/boldrinicoder/lab4/data/{}/{}0{}.txt\".format(data,data,i), usecols = 3)\n",
    "    Linear_Plotter(x,y,errx,erry,output_dir, i, data)\n",
    "    i += 1"
   ]
  },
  {
   "cell_type": "code",
   "execution_count": null,
   "metadata": {},
   "outputs": [],
   "source": []
  },
  {
   "cell_type": "code",
   "execution_count": null,
   "metadata": {},
   "outputs": [],
   "source": []
  }
 ],
 "metadata": {
  "kernelspec": {
   "display_name": "Python 3",
   "language": "python",
   "name": "python3"
  },
  "language_info": {
   "codemirror_mode": {
    "name": "ipython",
    "version": 3
   },
   "file_extension": ".py",
   "mimetype": "text/x-python",
   "name": "python",
   "nbconvert_exporter": "python",
   "pygments_lexer": "ipython3",
   "version": "3.6.5rc1"
  }
 },
 "nbformat": 4,
 "nbformat_minor": 2
}
