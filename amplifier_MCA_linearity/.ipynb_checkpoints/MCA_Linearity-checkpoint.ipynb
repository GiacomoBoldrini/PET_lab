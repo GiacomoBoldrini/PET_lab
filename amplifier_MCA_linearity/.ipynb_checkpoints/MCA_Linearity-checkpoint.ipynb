{
 "cells": [
  {
   "cell_type": "code",
   "execution_count": 29,
   "metadata": {},
   "outputs": [
    {
     "data": {
      "text/plain": [
       "'\\nReading linearity inputs and plotting linear regression\\n'"
      ]
     },
     "execution_count": 29,
     "metadata": {},
     "output_type": "execute_result"
    }
   ],
   "source": [
    "\"\"\"\n",
    "Reading linearity inputs and plotting linear regression\n",
    "\"\"\""
   ]
  },
  {
   "cell_type": "code",
   "execution_count": 1,
   "metadata": {},
   "outputs": [
    {
     "name": "stdout",
     "output_type": "stream",
     "text": [
      "Welcome to JupyROOT 6.14/06\n"
     ]
    }
   ],
   "source": [
    "import numpy as np\n",
    "import matplotlib.pyplot as plt\n",
    "import ROOT as r\n",
    "import math\n",
    "import datetime as dt"
   ]
  },
  {
   "cell_type": "code",
   "execution_count": 2,
   "metadata": {},
   "outputs": [],
   "source": [
    "def Linear_Plotter(x,y,errx, path_name, i, data):\n",
    "    gr = r.TGraphErrors(8,x,y,errx)\n",
    "    bottom = min(x)  \n",
    "    top = max(x)\n",
    "    fit = r.TF1(\"fit\", \"x[0]*[0]+[1]\",bottom,top, '--')\n",
    "    fit.SetParameters(100,0)\n",
    "    fit.SetLineColor(r.kBlue)\n",
    "    fit.SetParName(0,\"Slope\")\n",
    "    fit.SetParName(1,\"Intercept\")\n",
    "    c = r.TCanvas(\"c\", \"c\", 50,50, 1000, 800)\n",
    "    gr.Draw()\n",
    "    gr.SetTitle(\"MCA Linearity\")\n",
    "    gr.GetXaxis().SetTitle(\"Input voltage [V]\")\n",
    "    gr.GetYaxis().SetTitle(\"Channel\")\n",
    "    gr.Fit(\"fit\")\n",
    "    r.gStyle.SetStatX(.9)\n",
    "    r.gStyle.SetStatY(.4)\n",
    "    r.gStyle.SetOptFit(1111)\n",
    "    c.SaveAs(output_dir + \"/Plot_{}_{}.pdf\".format(data,i), \"pdf\")"
   ]
  },
  {
   "cell_type": "code",
   "execution_count": 3,
   "metadata": {},
   "outputs": [],
   "source": [
    "#creates a directory\n",
    "def mkdir_p(mypath):\n",
    "\n",
    "    from errno import EEXIST\n",
    "    from os import makedirs,path\n",
    "\n",
    "    try:\n",
    "        makedirs(mypath)\n",
    "    except OSError as exc: \n",
    "        if exc.errno == EEXIST and path.isdir(mypath):\n",
    "            pass\n",
    "        else: raise"
   ]
  },
  {
   "cell_type": "code",
   "execution_count": 4,
   "metadata": {},
   "outputs": [],
   "source": [
    "#Defines today date\n",
    "def Today():\n",
    "    date = str(dt.datetime.now())\n",
    "    date = date.replace(\"-\", \"\")\n",
    "    date = date.replace(\" \", \"\")\n",
    "    date = date.replace(\":\", \"\")\n",
    "    date = date.replace(\".\", \"\")\n",
    "    date = date[2:8]\n",
    "    return date\n"
   ]
  },
  {
   "cell_type": "code",
   "execution_count": 5,
   "metadata": {},
   "outputs": [],
   "source": [
    "data = str(181123)"
   ]
  },
  {
   "cell_type": "code",
   "execution_count": 6,
   "metadata": {},
   "outputs": [],
   "source": [
    "output_dir = (\"/Users/boldrinicoder/lab4/amplifier_MCA_linearity\") #inserting your path to lab directory\n",
    "mkdir_p(output_dir) #this creates a directory with today's date to contain plots etc (pay attention to overwriting)"
   ]
  },
  {
   "cell_type": "code",
   "execution_count": 7,
   "metadata": {},
   "outputs": [
    {
     "name": "stdout",
     "output_type": "stream",
     "text": [
      " FCN=6.74006 FROM MIGRAD    STATUS=CONVERGED      48 CALLS          49 TOTAL\n",
      "                     EDM=1.09882e-11    STRATEGY= 1      ERROR MATRIX ACCURATE \n",
      "  EXT PARAMETER                                   STEP         FIRST   \n",
      "  NO.   NAME      VALUE            ERROR          SIZE      DERIVATIVE \n",
      "   1  Slope        9.55853e+01   3.39542e-01   2.18723e-04   1.53192e-05\n",
      "   2  Intercept   -2.79032e+00   1.30798e+00   8.42563e-04   4.53340e-07\n",
      " FCN=2.4833 FROM MIGRAD    STATUS=CONVERGED      49 CALLS          50 TOTAL\n",
      "                     EDM=7.37839e-12    STRATEGY= 1      ERROR MATRIX ACCURATE \n",
      "  EXT PARAMETER                                   STEP         FIRST   \n",
      "  NO.   NAME      VALUE            ERROR          SIZE      DERIVATIVE \n",
      "   1  Slope        9.64181e+01   4.11047e-01   1.60629e-04   1.14007e-05\n",
      "   2  Intercept   -6.36782e+00   2.01110e+00   7.85903e-04   4.77143e-07\n"
     ]
    },
    {
     "name": "stderr",
     "output_type": "stream",
     "text": [
      "Info in <TCanvas::Print>: pdf file /Users/boldrinicoder/lab4/amplifier_MCA_linearity/Plot_181123_3.pdf has been created\n",
      "Info in <TCanvas::Print>: pdf file /Users/boldrinicoder/lab4/amplifier_MCA_linearity/Plot_181123_4.pdf has been created\n"
     ]
    }
   ],
   "source": [
    "i = 3 #index of first .txt\n",
    "n_measure_today = 5 #number of txt files (starting from 1 to nuymber_of_txt + 1)\n",
    "while i < n_measure_today:\n",
    "    x = np.loadtxt(\"/Users/boldrinicoder/lab4/data/{}/{}0{}.txt\".format(data,data,i),usecols = 0)\n",
    "    y = np.loadtxt(\"/Users/boldrinicoder/lab4/data/{}/{}0{}.txt\".format(data,data,i), usecols = 1)\n",
    "    errx = np.loadtxt(\"/Users/boldrinicoder/lab4/data/{}/{}0{}.txt\".format(data,data,i), usecols = 2)\n",
    "    Linear_Plotter(x,y,errx,output_dir, i, data)\n",
    "    i += 1"
   ]
  },
  {
   "cell_type": "code",
   "execution_count": null,
   "metadata": {},
   "outputs": [],
   "source": []
  }
 ],
 "metadata": {
  "kernelspec": {
   "display_name": "Python 3",
   "language": "python",
   "name": "python3"
  },
  "language_info": {
   "codemirror_mode": {
    "name": "ipython",
    "version": 3
   },
   "file_extension": ".py",
   "mimetype": "text/x-python",
   "name": "python",
   "nbconvert_exporter": "python",
   "pygments_lexer": "ipython3",
   "version": "3.6.5rc1"
  }
 },
 "nbformat": 4,
 "nbformat_minor": 2
}
