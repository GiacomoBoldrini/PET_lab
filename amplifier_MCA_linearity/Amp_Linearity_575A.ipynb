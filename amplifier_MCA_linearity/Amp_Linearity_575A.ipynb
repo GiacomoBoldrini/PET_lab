{
 "cells": [
  {
   "cell_type": "code",
   "execution_count": 1,
   "metadata": {},
   "outputs": [
    {
     "data": {
      "text/plain": [
       "'\\nReading linearity inputs and plotting linear regression\\n'"
      ]
     },
     "execution_count": 1,
     "metadata": {},
     "output_type": "execute_result"
    }
   ],
   "source": [
    "\"\"\"\n",
    "Reading linearity inputs and plotting linear regression\n",
    "\"\"\""
   ]
  },
  {
   "cell_type": "code",
   "execution_count": 2,
   "metadata": {},
   "outputs": [
    {
     "name": "stdout",
     "output_type": "stream",
     "text": [
      "Welcome to JupyROOT 6.14/06\n"
     ]
    }
   ],
   "source": [
    "import numpy as np\n",
    "import matplotlib.pyplot as plt\n",
    "import ROOT as r\n",
    "import math\n",
    "import datetime as dt"
   ]
  },
  {
   "cell_type": "code",
   "execution_count": 9,
   "metadata": {},
   "outputs": [],
   "source": [
    "def Linear_Plotter(x,y,errx,erry, path_name, i, data):\n",
    "    gr = r.TGraphErrors(8,x,y,errx,erry)\n",
    "    bottom = min(x)  \n",
    "    top = max(x)\n",
    "    fit = r.TF1(\"fit\", \"x[0]*[0]+[1]\",bottom,top, '--')\n",
    "    fit.SetLineColor(r.kBlue)\n",
    "    fit.SetParName(0,\"Gain\")\n",
    "    fit.SetParName(1,\"Intercept\")\n",
    "    c = r.TCanvas(\"c\", \"c\", 50,50, 1000, 800)\n",
    "    gr.Draw()\n",
    "    gr.SetTitle(\"Amplifier Linearity 575A\")\n",
    "    gr.GetXaxis().SetTitle(\"Input voltage [V]\")\n",
    "    gr.GetYaxis().SetTitle(\"Amplified voltage [V]\")\n",
    "    gr.Fit(\"fit\")\n",
    "    r.gStyle.SetStatX(.9)\n",
    "    r.gStyle.SetStatY(.4)\n",
    "    r.gStyle.SetOptFit(1111)\n",
    "    c.SaveAs(output_dir + \"/Plot_{}_{}.pdf\".format(data,i), \"pdf\")"
   ]
  },
  {
   "cell_type": "code",
   "execution_count": 10,
   "metadata": {},
   "outputs": [],
   "source": [
    "#creates a directory\n",
    "def mkdir_p(mypath):\n",
    "\n",
    "    from errno import EEXIST\n",
    "    from os import makedirs,path\n",
    "\n",
    "    try:\n",
    "        makedirs(mypath)\n",
    "    except OSError as exc: \n",
    "        if exc.errno == EEXIST and path.isdir(mypath):\n",
    "            pass\n",
    "        else: raise"
   ]
  },
  {
   "cell_type": "code",
   "execution_count": 11,
   "metadata": {},
   "outputs": [],
   "source": [
    "#Defines today date\n",
    "def Today():\n",
    "    date = str(dt.datetime.now())\n",
    "    date = date.replace(\"-\", \"\")\n",
    "    date = date.replace(\" \", \"\")\n",
    "    date = date.replace(\":\", \"\")\n",
    "    date = date.replace(\".\", \"\")\n",
    "    date = date[2:8]\n",
    "    return date"
   ]
  },
  {
   "cell_type": "code",
   "execution_count": 12,
   "metadata": {},
   "outputs": [],
   "source": [
    "data = str(181123)"
   ]
  },
  {
   "cell_type": "code",
   "execution_count": 13,
   "metadata": {},
   "outputs": [],
   "source": [
    "output_dir = (\"/Users/boldrinicoder/lab4/amplifier_MCA_linearity\") #inserting your path to lab directory\n",
    "mkdir_p(output_dir) #this creates a directory with today's date to contain plots etc (pay attention to overwriting)"
   ]
  },
  {
   "cell_type": "code",
   "execution_count": 14,
   "metadata": {},
   "outputs": [
    {
     "name": "stdout",
     "output_type": "stream",
     "text": [
      " FCN=11.7612 FROM MIGRAD    STATUS=CONVERGED      66 CALLS          67 TOTAL\n",
      "                     EDM=4.10787e-08    STRATEGY= 1      ERROR MATRIX ACCURATE \n",
      "  EXT PARAMETER                                   STEP         FIRST   \n",
      "  NO.   NAME      VALUE            ERROR          SIZE      DERIVATIVE \n",
      "   1  Gain         1.09313e+01   5.57959e-02   4.47841e-05   7.07144e-03\n",
      "   2  Intercept   -8.13808e-02   2.36158e-02   1.89551e-05   2.42251e-02\n",
      " FCN=2.15437 FROM MIGRAD    STATUS=CONVERGED      75 CALLS          76 TOTAL\n",
      "                     EDM=7.20672e-10    STRATEGY= 1      ERROR MATRIX ACCURATE \n",
      "  EXT PARAMETER                                   STEP         FIRST   \n",
      "  NO.   NAME      VALUE            ERROR          SIZE      DERIVATIVE \n",
      "   1  Gain         2.15622e+01   1.32505e-01   4.72992e-05   3.52023e-04\n",
      "   2  Intercept   -1.39857e-01   4.28449e-02   1.52939e-05   2.27751e-04\n"
     ]
    },
    {
     "name": "stderr",
     "output_type": "stream",
     "text": [
      "Info in <TCanvas::Print>: pdf file /Users/boldrinicoder/lab4/amplifier_MCA_linearity/Plot_181123_5.pdf has been created\n",
      "Info in <TCanvas::Print>: pdf file /Users/boldrinicoder/lab4/amplifier_MCA_linearity/Plot_181123_6.pdf has been created\n"
     ]
    }
   ],
   "source": [
    "i = 5 #index of first .txt\n",
    "n_measure_today = 7 #number of txt files (starting from 1 to nuymber_of_txt + 1)\n",
    "while i < n_measure_today:\n",
    "    x = np.loadtxt(\"/Users/boldrinicoder/lab4/data/{}/{}0{}.txt\".format(data,data,i),usecols = 0)\n",
    "    y = np.loadtxt(\"/Users/boldrinicoder/lab4/data/{}/{}0{}.txt\".format(data,data,i), usecols = 1)\n",
    "    errx = np.loadtxt(\"/Users/boldrinicoder/lab4/data/{}/{}0{}.txt\".format(data,data,i), usecols = 2)\n",
    "    erry = np.loadtxt(\"/Users/boldrinicoder/lab4/data/{}/{}0{}.txt\".format(data,data,i), usecols = 3)\n",
    "    Linear_Plotter(x,y,errx,erry,output_dir, i, data)\n",
    "    i += 1"
   ]
  },
  {
   "cell_type": "code",
   "execution_count": null,
   "metadata": {},
   "outputs": [],
   "source": []
  }
 ],
 "metadata": {
  "kernelspec": {
   "display_name": "Python 3",
   "language": "python",
   "name": "python3"
  },
  "language_info": {
   "codemirror_mode": {
    "name": "ipython",
    "version": 3
   },
   "file_extension": ".py",
   "mimetype": "text/x-python",
   "name": "python",
   "nbconvert_exporter": "python",
   "pygments_lexer": "ipython3",
   "version": "3.6.5rc1"
  }
 },
 "nbformat": 4,
 "nbformat_minor": 2
}
