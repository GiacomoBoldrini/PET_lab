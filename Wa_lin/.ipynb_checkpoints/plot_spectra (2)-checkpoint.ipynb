{
 "cells": [
  {
   "cell_type": "code",
   "execution_count": 1,
   "metadata": {},
   "outputs": [
    {
     "name": "stdout",
     "output_type": "stream",
     "text": [
      "Welcome to JupyROOT 6.14/06\n"
     ]
    }
   ],
   "source": [
    "import ROOT as r\n",
    "import numpy as np\n",
    "import matplotlib.pyplot as plt\n",
    "import math\n",
    "from array import array\n",
    "import glob\n",
    "import sys\n",
    "sys.path.insert(0, '/Users/boldrinicoder/lab4/FunctionClass')\n",
    "from Functions import ClassFunc\n",
    "from Root_objects import ROOT_obj\n",
    "import math as mt\n",
    "from array import array"
   ]
  },
  {
   "cell_type": "markdown",
   "metadata": {},
   "source": [
    "<center><h1>Spectrum Plot </h1></center>"
   ]
  },
  {
   "cell_type": "code",
   "execution_count": 5,
   "metadata": {},
   "outputs": [],
   "source": [
    "path = \"./181128\""
   ]
  },
  {
   "cell_type": "code",
   "execution_count": 6,
   "metadata": {},
   "outputs": [
    {
     "data": {
      "text/plain": [
       "[]"
      ]
     },
     "execution_count": 6,
     "metadata": {},
     "output_type": "execute_result"
    }
   ],
   "source": [
    "file = sorted(glob.glob(path + \"/*.txt\"))\n",
    "file"
   ]
  },
  {
   "cell_type": "code",
   "execution_count": 4,
   "metadata": {},
   "outputs": [],
   "source": [
    "energy = np.array([])\n",
    "with open(file[28]) as fp:\n",
    "    line = fp.readlines()\n",
    "    \n",
    "    for i in line:\n",
    "        \n",
    "        energy = np.append(energy,int(i.strip()))\n",
    "        \n",
    "        \n",
    "        \n",
    "        "
   ]
  },
  {
   "cell_type": "code",
   "execution_count": 5,
   "metadata": {},
   "outputs": [],
   "source": [
    "x = np.arange(0,len(energy),1)"
   ]
  },
  {
   "cell_type": "code",
   "execution_count": 6,
   "metadata": {},
   "outputs": [
    {
     "name": "stderr",
     "output_type": "stream",
     "text": [
      "Info in <TCanvas::Print>: pdf file /home/wahid/Wahid/University/Laboratory/report_plot/Spectrum.pdf has been created\n"
     ]
    },
    {
     "data": {
      "image/png": "[encoded data removed]",
      "text/plain": [
       "<IPython.core.display.Image object>"
      ]
     },
     "metadata": {},
     "output_type": "display_data"
    }
   ],
   "source": [
    "h = r.TH1F(\"\",\"Spectra\", len(x), 0, len(x))\n",
    "\n",
    "for i in range(0,len(energy)):\n",
    "    #print(energy[i])\n",
    "    h.Fill(i,energy[i])\n",
    "    \n",
    "c2 = r.TCanvas(\"c2\", \"c2\",50,50,1000,600)\n",
    "\n",
    "\n",
    "#h.SetFillColor(ROOT.kBlue)\n",
    "#h.SetFillColor(ROOT.kBlue)\n",
    "#h.SetFillColor(ROOT.kBlue)\n",
    "h.SetFillColorAlpha(r.kBlue,0.2)\n",
    "h.SetLineColorAlpha(r.kBlue, 1)\n",
    "h.SetStats(0)\n",
    "\n",
    "h.SetTitle(\"\")\n",
    "h.SetXTitle(\"Channels\")\n",
    "h.SetYTitle(\"Counts\")\n",
    "\n",
    "c2.Draw(\"same\")\n",
    "h.Draw(\"histo\")\n",
    "c2.SaveAs(\"/home/wahid/Wahid/University/Laboratory/report_plot/Spectrum.pdf\", \"pdf\")"
   ]
  },
  {
   "cell_type": "markdown",
   "metadata": {},
   "source": [
    "<center><h1>Linearities</h1> </center>"
   ]
  },
  {
   "cell_type": "code",
   "execution_count": 7,
   "metadata": {},
   "outputs": [],
   "source": [
    "path = \"./181123/\""
   ]
  },
  {
   "cell_type": "code",
   "execution_count": 8,
   "metadata": {},
   "outputs": [
    {
     "data": {
      "text/plain": [
       "'./181123/18112306.txt'"
      ]
     },
     "execution_count": 8,
     "metadata": {},
     "output_type": "execute_result"
    }
   ],
   "source": [
    "file = sorted(glob.glob(path + \"*.txt\"))\n",
    "file[5]"
   ]
  },
  {
   "cell_type": "code",
   "execution_count": 9,
   "metadata": {},
   "outputs": [],
   "source": [
    "a = np.array([])\n",
    "out1 = [0]\n",
    "input_v1 = [0]\n",
    "err_in1 = [0]\n",
    "err_out1 = [0]\n",
    "\n",
    "with open(file[0]) as fp:\n",
    "    line = fp.readlines()\n",
    "    \n",
    "    \n",
    "    for i in line:\n",
    "        \n",
    "        data_temp = i.strip().split(\"\\t\")\n",
    "        input_v1.append(float(data_temp[0]))\n",
    "        out1.append(float(data_temp[1]))\n",
    "        err_in1.append(float(data_temp[2]))\n",
    "        err_out1.append(float(data_temp[3]))\n",
    "        \n",
    "out2 = [0]\n",
    "input_v2 = [0]\n",
    "err_in2 = [0]\n",
    "err_out2 = [0]\n",
    "\n",
    "with open(file[1]) as fp:\n",
    "    line = fp.readlines()\n",
    "    \n",
    "    \n",
    "    for i in line:\n",
    "        \n",
    "        data_temp = i.strip().split(\"\\t\")\n",
    "        input_v2.append(float(data_temp[0]))\n",
    "        out2.append(float(data_temp[1]))\n",
    "        err_in2.append(float(data_temp[2]))\n",
    "        err_out2.append(float(data_temp[3]))\n",
    "        \n",
    "        "
   ]
  },
  {
   "cell_type": "code",
   "execution_count": 10,
   "metadata": {},
   "outputs": [],
   "source": [
    "input_v1 = array(\"f\", input_v1)\n",
    "out1 = array(\"f\", out1)\n",
    "err_in1 = array(\"f\", err_in1)\n",
    "err_out1 = array(\"f\", err_out1)\n",
    "\n",
    "input_v2 = array(\"f\", input_v2)\n",
    "out2 = array(\"f\", out2)\n",
    "err_in2 = array(\"f\", err_in2)\n",
    "err_out2 = array(\"f\", err_out2)"
   ]
  },
  {
   "cell_type": "code",
   "execution_count": 11,
   "metadata": {},
   "outputs": [
    {
     "name": "stdout",
     "output_type": "stream",
     "text": [
      " FCN=3.26067 FROM MIGRAD    STATUS=CONVERGED      76 CALLS          77 TOTAL\n",
      "                     EDM=9.80324e-07    STRATEGY= 1      ERROR MATRIX ACCURATE \n",
      "  EXT PARAMETER                                   STEP         FIRST   \n",
      "  NO.   NAME      VALUE            ERROR          SIZE      DERIVATIVE \n",
      "   1  Slope        1.18465e+01   8.65492e-02   4.08753e-05  -2.93329e-02\n",
      "   2  Intercept   -9.69403e-02   4.15325e-02   1.96122e-05  -3.62108e-02\n",
      " FCN=1.11885 FROM MIGRAD    STATUS=CONVERGED      66 CALLS          67 TOTAL\n",
      "                     EDM=4.12325e-07    STRATEGY= 1      ERROR MATRIX ACCURATE \n",
      "  EXT PARAMETER                                   STEP         FIRST   \n",
      "  NO.   NAME      VALUE            ERROR          SIZE      DERIVATIVE \n",
      "   1  Slope        2.19403e+01   1.91038e-01   5.49458e-05   3.80641e-03\n",
      "   2  Intercept   -1.83462e-01   6.16572e-02   1.77350e-05  -3.14870e-03\n"
     ]
    },
    {
     "name": "stderr",
     "output_type": "stream",
     "text": [
      "Info in <TCanvas::SaveAs>: ROOT file ./MCALin.root has been created\n"
     ]
    },
    {
     "data": {
      "image/png": "[encoded data removed]",
      "text/plain": [
       "<IPython.core.display.Image object>"
      ]
     },
     "metadata": {},
     "output_type": "display_data"
    }
   ],
   "source": [
    "graph1 = r.TGraphErrors(len(input_v1), input_v1,out1,err_in1,err_out1) #Ampli\n",
    "graph2 = r.TGraphErrors(len(input_v2), input_v2,out2,err_in2,err_out2)\n",
    "#graph = r.TGraphErrors(len(input_v), input_v,out,err_in) #MCA\n",
    "fit1 = r.TF1(\"fit\", \"[0]*x + [1]\", 0,max(input_v1))\n",
    "fit2 = r.TF1(\"fit\", \"[0]*x + [1]\", 0,max(input_v2))\n",
    "c1 = r.TCanvas(\"c1\", \"c1\",50,50,1000,600)\n",
    "legend = r.TLegend(0.5, 0.5, 0.75, 0.75)\n",
    "r.gStyle.SetOptFit(1)\n",
    "fit1.SetParName(0,\"Slope\")\n",
    "fit1.SetParameters(100,0)\n",
    "fit1.SetParName(1,\"Intercept\")\n",
    "fit1.SetLineWidth(2)\n",
    "fit2.SetParName(0,\"Slope\")\n",
    "fit2.SetParameters(100,0)\n",
    "fit2.SetParName(1,\"Intercept\")\n",
    "fit2.SetLineWidth(2)\n",
    "fit2.SetLineColor(r.kBlue)\n",
    "#graph.SetMarkerStyle(8)\n",
    "r.gStyle.SetMarkerColor(r.kBlue)\n",
    "r.gStyle.SetMarkerSize(1)\n",
    "graph1.GetXaxis().SetTitle(\"Input voltage\")\n",
    "graph1.GetYaxis().SetTitle(\"Channels \")\n",
    "\n",
    "graph1.Fit(fit1)\n",
    "graph1.SetTitle(\"Ammazzatevi MCA\")\n",
    "#graph2.GetXaxis().SetTitle(\"Input [Volt]\")\n",
    "#graph2.GetYaxis().SetTitle(\"Channels \")\n",
    "#graph2.Draw(\"same AP\")\n",
    "#graph2.SetLineColorAlpha(0)\n",
    "graph2.Fit(fit2)\n",
    "\n",
    "graph1.Draw(\"AP\")\n",
    "graph2.Draw(\"SAME\")\n",
    "\n",
    "legend.AddEntry(fit1, \"Gain: 10\")\n",
    "legend.AddEntry(fit2, \"Gain: 20\")\n",
    "#graph2.SetTitle(\"MCA linearity - Gain: 20\")\n",
    "legend.Draw()\n",
    "c1.Draw()\n",
    "c1.Show()\n",
    "c1.SaveAs(\"./MCALin.root\", \"root\")"
   ]
  },
  {
   "cell_type": "markdown",
   "metadata": {},
   "source": [
    "<center><h1>FWHM indipendence from gain </h1></center>"
   ]
  },
  {
   "cell_type": "code",
   "execution_count": 12,
   "metadata": {},
   "outputs": [],
   "source": [
    "path = \"/home/wahid/Wahid/University/Laboratory/Data/181128/\"\n",
    "files = sorted(glob.glob(path + \"/*.txt\"))\n",
    "\n",
    "\n",
    "with open(files[1]) as fp:\n",
    "    line = fp.readlines()\n",
    "    \n",
    "    for i in line:\n",
    "        \n",
    "        energy = np.append(energy,int(i.strip()))\n",
    "        \n"
   ]
  },
  {
   "cell_type": "code",
   "execution_count": 13,
   "metadata": {},
   "outputs": [],
   "source": [
    "def Fitter(measure, file, inf, sup, mean):\n",
    "    r.gROOT.SetBatch(True)\n",
    "        #here I open the file (set data and measure) and I fill an array\n",
    "    with open(file) as fp:\n",
    "        line = fp.readlines()\n",
    "        arr = np.array([])\n",
    "    for i in line:\n",
    "        arr = np.append(arr,int(i.strip()))\n",
    "   \n",
    "    bins = sup-inf\n",
    "    peak = np.where(max(arr))\n",
    "    h2 = r.TH1F(\"h2\", \"h2\", bins, inf, sup)\n",
    "    h2.SetFillColor(r.kBlue)\n",
    "    h2.SetFillStyle(3003)\n",
    "    h2.SetLineWidth(2)\n",
    "    i = inf\n",
    "    z = 0\n",
    "    fit = r.TF1(\"fit\", \"[0]*exp(-((x[0]-[1])^2)/[2]^2)+[3]*exp(-[4]*x[0])+[5]\",inf,sup)\n",
    "    fit.SetParameters(2200,mean,18,0.1,0,100)\n",
    "    fit.SetLineWidth(3)\n",
    "    while i < sup:\n",
    "        h2.SetBinContent(z,arr[i])\n",
    "        i += 1 \n",
    "        z += 1\n",
    "    integral = 0\n",
    "    inf_rate=fit.GetParameter(1)-3*fit.GetParameter(2)\n",
    "    sup_rate=fit.GetParameter(1)+3*fit.GetParameter(2)\n",
    "\n",
    "\n",
    "    c2 = r.TCanvas(\"c2\", \"c2\",50,50,1000,800)\n",
    "    n = h2.Fit(\"fit\", \"RLS\")\n",
    "    h2.Draw(\"histo same\")\n",
    "    r.gStyle.SetOptStat(1111)\n",
    "    r.gStyle.SetOptFit(1111)\n",
    "    c2.Draw() \n",
    "    c2.Show()\n",
    "    c2.SaveAs(\"/home/wahid/Wahid/University/Laboratory/report_plot/{}.pdf\".format(measure), \"pdf\")"
   ]
  },
  {
   "cell_type": "code",
   "execution_count": 14,
   "metadata": {},
   "outputs": [
    {
     "name": "stdout",
     "output_type": "stream",
     "text": [
      " FCN=1401.3 FROM MIGRAD    STATUS=CALL LIMIT   1781 CALLS        1782 TOTAL\n",
      "                     EDM=3.04871    STRATEGY= 1      ERR MATRIX NOT POS-DEF\n",
      "  EXT PARAMETER                APPROXIMATE        STEP         FIRST   \n",
      "  NO.   NAME      VALUE            ERROR          SIZE      DERIVATIVE \n",
      "   1  p0           7.83416e+03   2.88456e+01   1.65511e+01   3.50423e-02\n",
      "   2  p1           1.81498e+02   1.96272e-02  -1.40591e-02  -4.62473e+01\n",
      "   3  p2           8.81956e+00   2.55813e-02  -6.64777e-03   2.57681e+01\n",
      "   4  p3          -1.46276e+03   8.70595e+01  -1.03023e+02   1.72674e-01\n",
      "   5  p4          -9.77242e-04   4.71892e-05   4.04522e-05  -7.33116e+03\n",
      "   6  p5           2.13289e+03   9.24976e+01   1.12038e+02   1.51049e-01\n",
      "                               ERR DEF= 0.5\n"
     ]
    },
    {
     "name": "stderr",
     "output_type": "stream",
     "text": [
      "Warning in <TCanvas::Constructor>: Deleting canvas with same name: c2\n",
      "Warning in <Fit>: Abnormal termination of minimization.\n",
      "Info in <TCanvas::Print>: pdf file /home/wahid/Wahid/University/Laboratory/report_plot/ciao.pdf has been created\n"
     ]
    }
   ],
   "source": [
    "Fitter(\"ciao\",files[1],150,300,200)"
   ]
  },
  {
   "cell_type": "code",
   "execution_count": null,
   "metadata": {},
   "outputs": [],
   "source": []
  }
 ],
 "metadata": {
  "kernelspec": {
   "display_name": "Python 3",
   "language": "python",
   "name": "python3"
  },
  "language_info": {
   "codemirror_mode": {
    "name": "ipython",
    "version": 3
   },
   "file_extension": ".py",
   "mimetype": "text/x-python",
   "name": "python",
   "nbconvert_exporter": "python",
   "pygments_lexer": "ipython3",
   "version": "3.6.5rc1"
  }
 },
 "nbformat": 4,
 "nbformat_minor": 2
}
