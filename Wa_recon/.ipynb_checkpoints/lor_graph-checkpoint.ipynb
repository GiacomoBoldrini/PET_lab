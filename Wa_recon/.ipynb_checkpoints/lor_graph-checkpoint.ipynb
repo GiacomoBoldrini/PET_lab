{
 "cells": [
  {
   "cell_type": "code",
   "execution_count": null,
   "metadata": {},
   "outputs": [],
   "source": [
    "import ROOT\n",
    "from math import radians,cos,sin,tan\n",
    "import numpy as np\n",
    "import os\n",
    "import pandas as pd\n",
    "from array import array\n",
    "import glob"
   ]
  },
  {
   "cell_type": "code",
   "execution_count": 2,
   "metadata": {},
   "outputs": [
    {
     "name": "stdout",
     "output_type": "stream",
     "text": [
      "/home/wahid/Desktop/University/Laboratory/WorkingScripts\r\n"
     ]
    }
   ],
   "source": [
    "!pwd"
   ]
  },
  {
   "cell_type": "markdown",
   "metadata": {},
   "source": [
    "# Ricostruzione grafica senza DenseMeasures"
   ]
  },
  {
   "cell_type": "code",
   "execution_count": 3,
   "metadata": {},
   "outputs": [],
   "source": [
    "path_data = \"../Data/Rates/\"\n",
    "path_graph = \"../Graphs/Graph_Reconstruction/\""
   ]
  },
  {
   "cell_type": "code",
   "execution_count": 4,
   "metadata": {},
   "outputs": [],
   "source": [
    "alpha_giro = 160\n",
    "\n",
    "radius = 31\n",
    "\n",
    "#thetas =np.array([187.5,210,165])\n",
    "thetas =np.array([157.5,142.5,187.5,210,165])\n",
    "thetas_rad = [radians(i) for i in thetas]\n",
    "\n",
    "alphas = np.arange(0,360,360/alpha_giro)\n",
    "alphas_rad = [radians(i) for i in alphas]\n"
   ]
  },
  {
   "cell_type": "code",
   "execution_count": 5,
   "metadata": {},
   "outputs": [],
   "source": [
    "rates = []\n",
    "for i in range(1,6):\n",
    "    s = str(i)\n",
    "    name_file = \"Positioning\"+s\n",
    "    r = np.load(path_data + name_file +\"/rate_rel_pos\"+s+\".npy\")\n",
    "    rates.append(r)\n",
    "\n",
    "rates = np.array(rates)"
   ]
  },
  {
   "cell_type": "code",
   "execution_count": 6,
   "metadata": {},
   "outputs": [],
   "source": [
    "data = [[],[],[]]\n",
    "\n",
    "\n",
    "\n",
    "for i in range(0,len(thetas_rad)):\n",
    "    for j in range(0,len(alphas_rad)):\n",
    "        data[0].append(thetas_rad[i])\n",
    "        data[1].append(alphas_rad[j])\n",
    "        data[2].append(rates[i][j])\n",
    "        \n",
    "\n"
   ]
  },
  {
   "cell_type": "code",
   "execution_count": 7,
   "metadata": {},
   "outputs": [],
   "source": [
    "d = np.array(data)\n",
    "\n",
    "d = d.transpose()\n",
    "df = pd.DataFrame(d,columns = [\"thetas\",\"alphas\",\"rates\"])\n"
   ]
  },
  {
   "cell_type": "code",
   "execution_count": 8,
   "metadata": {},
   "outputs": [],
   "source": [
    "nbinx = 60\n",
    "nbiny = 60\n",
    "inf_x = -20\n",
    "sup_x = 20\n",
    "inf_y = -20\n",
    "sup_y = 20\n",
    "dimx = (sup_x-inf_x)/nbinx\n",
    "dimy = (sup_y-inf_y)/nbiny\n",
    "passo = (sup_x - inf_x) / nbinx\n",
    "\n",
    "\n",
    "\n",
    "c1 = ROOT.TCanvas(\"c1\",\"c1\",1000,1000,1000,1000)\n",
    "h2_reconstruction = ROOT.TH2F(\"h2\",\"h2\",nbinx,inf_x,sup_x,nbiny,inf_y,sup_y)"
   ]
  },
  {
   "cell_type": "code",
   "execution_count": 12,
   "metadata": {},
   "outputs": [],
   "source": [
    "def m_coeff(theta_rad):\n",
    "    return sin(theta_rad)/(cos(theta_rad)-1)\n",
    "\n",
    "\n",
    "def retta(m,alphas,X,R):\n",
    "    first = (m*np.cos(alphas)-np.sin(alphas))/(np.cos(alphas) + m*np.sin(alphas))*X\n",
    "    second = m*R/(np.cos(alphas)+m*np.sin(alphas))\n",
    "    return first + second"
   ]
  },
  {
   "cell_type": "code",
   "execution_count": 13,
   "metadata": {},
   "outputs": [
    {
     "name": "stderr",
     "output_type": "stream",
     "text": [
      "/home/wahid/anaconda3/lib/python3.6/site-packages/ipykernel_launcher.py:6: RuntimeWarning: divide by zero encountered in double_scalars\n",
      "  \n",
      "/home/wahid/anaconda3/lib/python3.6/site-packages/ipykernel_launcher.py:7: RuntimeWarning: divide by zero encountered in double_scalars\n",
      "  import sys\n",
      "/home/wahid/anaconda3/lib/python3.6/site-packages/ipykernel_launcher.py:8: RuntimeWarning: invalid value encountered in double_scalars\n",
      "  \n"
     ]
    }
   ],
   "source": [
    "for i in range(0,alpha_giro*len(thetas_rad)):\n",
    "    for j in range(0,nbinx):\n",
    "        x = inf_x + passo * j + passo/2 \n",
    "        y=retta(m_coeff(df[\"thetas\"][i]),df[\"alphas\"][i],x,radius)\n",
    "        h2_reconstruction.Fill(x,y,df[\"rates\"][i])"
   ]
  },
  {
   "cell_type": "code",
   "execution_count": 14,
   "metadata": {},
   "outputs": [
    {
     "name": "stderr",
     "output_type": "stream",
     "text": [
      "Info in <TCanvas::Print>: png file ../Graphs/Graph_Reconstruction/Reconstruction.png has been created\n"
     ]
    }
   ],
   "source": [
    "ROOT.gStyle.SetPalette(ROOT.kInvertedDarkBodyRadiator)\n",
    "h2_reconstruction.SetTitle(\"No Dense\")\n",
    "h2_reconstruction.Draw(\"COLZ\")\n",
    "h2_reconstruction.SetStats(0)\n",
    "\n",
    "c1.Print(path_graph+\"Reconstruction.png\",\"png\")"
   ]
  },
  {
   "cell_type": "markdown",
   "metadata": {},
   "source": [
    "# Ricostruzione grafica attorno al massimo (Posizione Sorgente)"
   ]
  },
  {
   "cell_type": "code",
   "execution_count": 15,
   "metadata": {},
   "outputs": [
    {
     "name": "stderr",
     "output_type": "stream",
     "text": [
      "/home/wahid/anaconda3/lib/python3.6/site-packages/ipykernel_launcher.py:6: RuntimeWarning: divide by zero encountered in double_scalars\n",
      "  \n",
      "/home/wahid/anaconda3/lib/python3.6/site-packages/ipykernel_launcher.py:7: RuntimeWarning: divide by zero encountered in double_scalars\n",
      "  import sys\n",
      "/home/wahid/anaconda3/lib/python3.6/site-packages/ipykernel_launcher.py:8: RuntimeWarning: invalid value encountered in double_scalars\n",
      "  \n",
      "Info in <TCanvas::Print>: ,png file ../Graphs/Graph_Reconstruction/Reconstruction_cut.png has been created\n"
     ]
    }
   ],
   "source": [
    "inf_x_cut = -4\n",
    "sup_x_cut = 4\n",
    "inf_y_cut = -17\n",
    "sup_y_cut = -8\n",
    "nbinx_cut = int((sup_x_cut - inf_x_cut)/dimx)\n",
    "nbiny_cut = int((sup_y_cut - inf_y_cut)/dimy)\n",
    "\n",
    "\n",
    "h2_cut = ROOT.TH2F(\"h2_cut\",\"h2_cut\",nbinx_cut,inf_x_cut,sup_x_cut,nbiny_cut,inf_y_cut,sup_y_cut)\n",
    "\n",
    "for i in range(0,alpha_giro*len(thetas_rad)):\n",
    "    for j in range(0,nbinx):\n",
    "        x = inf_x + passo * j + passo/2 \n",
    "        y=retta(m_coeff(df[\"thetas\"][i]),df[\"alphas\"][i],x,radius)\n",
    "        h2_cut.Fill(x,y,df[\"rates\"][i])\n",
    "\n",
    "h2_cut.SetStats(0)\n",
    "h2_cut.SetTitle(\"No Dense Cut\")\n",
    "h2_cut.Draw(\"COLZ\")\n",
    "c1.Print(path_graph+\"Reconstruction_cut.png\",\",png\")"
   ]
  },
  {
   "cell_type": "markdown",
   "metadata": {},
   "source": [
    "# Plotto le proiezioni X e Y"
   ]
  },
  {
   "cell_type": "code",
   "execution_count": 16,
   "metadata": {},
   "outputs": [
    {
     "name": "stdout",
     "output_type": "stream",
     "text": [
      "Content_Maximum_Bin: 120\n",
      "X_max:8   Y_max:8\n"
     ]
    }
   ],
   "source": [
    "#I bin si contano da in basso o da sinistra contando anche una colonna fuori e partendo da 0.\n",
    "\n",
    "max_bin =h2_cut.GetMaximumBin()\n",
    "x_max = round((max_bin/(nbinx_cut+2) - int(max_bin/(nbinx_cut+2)))*(nbinx_cut+2))\n",
    "y_max = int(max_bin/(nbinx_cut+2))\n",
    "\n",
    "print(\"Content_Maximum_Bin: {}\".format(max_bin))\n",
    "print(\"X_max:{}   Y_max:{}\".format(x_max,y_max))"
   ]
  },
  {
   "cell_type": "code",
   "execution_count": 17,
   "metadata": {},
   "outputs": [],
   "source": [
    "projX = ROOT.TH1F(\"projX\",\"projx\",nbinx_cut,inf_x_cut,sup_x_cut)\n",
    "projY = ROOT.TH1F(\"projY\",\"projY\",nbiny_cut,inf_y_cut,sup_y_cut)\n",
    "\n",
    "for i in range(1,nbinx_cut+1):\n",
    "    #print(i + y_max*(nbinx_cut+2))\n",
    "    #print(h2_cut.GetBinContent(i + y_max*(nbinx_cut+2)))\n",
    "    projX.SetBinContent(i, h2_cut.GetBinContent(i + y_max*(nbinx_cut+2)))\n",
    "    \n",
    "index = []\n",
    "for k in range(1,nbiny_cut+1):\n",
    "    index.append(x_max+k*(nbinx_cut+2))   \n",
    "\n",
    "for j in range(1, nbiny_cut+1):\n",
    "    #print(j)\n",
    "    #print(h2_cut.GetBinContent(index[j-1]))\n",
    "    projY.SetBinContent(j, h2_cut.GetBinContent(index[j-1]))"
   ]
  },
  {
   "cell_type": "code",
   "execution_count": 18,
   "metadata": {},
   "outputs": [
    {
     "name": "stderr",
     "output_type": "stream",
     "text": [
      "Info in <TCanvas::Print>: png file ../Graphs/Graph_Reconstruction/Projections.png has been created\n"
     ]
    }
   ],
   "source": [
    "c2 = ROOT.TCanvas(\"projc2\",\"projc2\",1000,1000,1000,1000)\n",
    "c2.Divide(1,2)\n",
    "\n",
    "c2.cd(1)\n",
    "projX.Draw(\"\")\n",
    "c2.cd(2)\n",
    "projY.Draw(\"\")\n",
    "c2.Print(path_graph+\"Projections.png\",\"png\")"
   ]
  },
  {
   "cell_type": "markdown",
   "metadata": {},
   "source": [
    "# Aggiungo le dense measure e plotto"
   ]
  },
  {
   "cell_type": "code",
   "execution_count": 19,
   "metadata": {},
   "outputs": [],
   "source": [
    "path_data = \"../Data/Dense/\""
   ]
  },
  {
   "cell_type": "code",
   "execution_count": 23,
   "metadata": {},
   "outputs": [
    {
     "name": "stdout",
     "output_type": "stream",
     "text": [
      "40 40\n"
     ]
    }
   ],
   "source": [
    "alpha_giro = 40\n",
    "\n",
    "radius = 31\n",
    "\n",
    "thetas =np.array([157.5,142.5,187.5,210,157.5,142.5,187.5,210])\n",
    "#thetas =np.array([157.5,142.5,187.5,210,165])\n",
    "thetas_rad = [radians(i) for i in thetas]\n",
    "\n",
    "\n",
    "#Alphas sono da inserire a mano per tutte le misure\n",
    "alphas_11 = np.arange(38.78,54.78,0.4)\n",
    "alphas_12 = np.arange(276.8,292.8,0.4)\n",
    "alphas_21 = np.arange(5.56,21.56,0.4)\n",
    "alphas_22 = np.arange(292,308,0.4)\n",
    "alphas_31 = np.arange(88.1,103.9,0.4)\n",
    "alphas_32 = np.arange(255.6,271.5,0.4)\n",
    "alphas_41 = np.arange(126.6,142.6,0.4)\n",
    "alphas_42 = np.arange(235.6,251.6,0.4)\n",
    "\n",
    "\n",
    "print(len(alphas_11),len(alphas_12))\n",
    "alphas_11_rad = [radians(i) for i in alphas_11]\n",
    "alphas_12_rad = [radians(i) for i in alphas_12]\n",
    "alphas_21_rad = [radians(i) for i in alphas_21]\n",
    "alphas_22_rad = [radians(i) for i in alphas_22]\n",
    "alphas_31_rad = [radians(i) for i in alphas_31]\n",
    "alphas_32_rad = [radians(i) for i in alphas_32]\n",
    "alphas_41_rad = [radians(i) for i in alphas_41]\n",
    "alphas_42_rad = [radians(i) for i in alphas_42]\n",
    "\n",
    "alphas_rad = [alphas_11_rad,alphas_21_rad,alphas_31_rad,alphas_41_rad,alphas_12_rad,alphas_22_rad,alphas_32_rad,alphas_42_rad]\n",
    "#alphas = np.arange(0,360,360/alpha_giro)\n",
    "#alphas_rad = [radians(i) for i in alphas]\n",
    "alphas_rad = np.array(alphas_rad)\n"
   ]
  },
  {
   "cell_type": "code",
   "execution_count": 26,
   "metadata": {},
   "outputs": [
    {
     "name": "stdout",
     "output_type": "stream",
     "text": [
      "Positioning1/dense_rate_rel_pos11.npy\n",
      "Positioning2/dense_rate_rel_pos21.npy\n",
      "Positioning3/dense_rate_rel_pos31.npy\n",
      "Positioning4/dense_rate_rel_pos41.npy\n",
      "Positioning1/dense_rate_rel_pos12.npy\n",
      "Positioning2/dense_rate_rel_pos22.npy\n",
      "Positioning3/dense_rate_rel_pos32.npy\n",
      "Positioning4/dense_rate_rel_pos42.npy\n"
     ]
    },
    {
     "data": {
      "text/plain": [
       "40"
      ]
     },
     "execution_count": 26,
     "metadata": {},
     "output_type": "execute_result"
    }
   ],
   "source": [
    "rates = []\n",
    "for j in range(1,3):\n",
    "    for i in range(1,5):\n",
    "        s = str(i)\n",
    "        k = str(j)\n",
    "        name_file = \"Positioning\"+s\n",
    "        r = np.load(path_data + name_file +\"/dense_rate_rel_pos\"+s+k+\".npy\")\n",
    "        print(name_file +\"/dense_rate_rel_pos\"+s+k+\".npy\")\n",
    "        rates.append(r)\n",
    "\n",
    "rates = np.array(rates)\n",
    "len(alphas_rad[4])"
   ]
  },
  {
   "cell_type": "code",
   "execution_count": 27,
   "metadata": {},
   "outputs": [
    {
     "data": {
      "text/html": [
       "<div>\n",
       "<style scoped>\n",
       "    .dataframe tbody tr th:only-of-type {\n",
       "        vertical-align: middle;\n",
       "    }\n",
       "\n",
       "    .dataframe tbody tr th {\n",
       "        vertical-align: top;\n",
       "    }\n",
       "\n",
       "    .dataframe thead th {\n",
       "        text-align: right;\n",
       "    }\n",
       "</style>\n",
       "<table border=\"1\" class=\"dataframe\">\n",
       "  <thead>\n",
       "    <tr style=\"text-align: right;\">\n",
       "      <th></th>\n",
       "      <th>thetas</th>\n",
       "      <th>alphas</th>\n",
       "      <th>rates</th>\n",
       "    </tr>\n",
       "  </thead>\n",
       "  <tbody>\n",
       "    <tr>\n",
       "      <th>0</th>\n",
       "      <td>2.748894</td>\n",
       "      <td>0.676839</td>\n",
       "      <td>0.577140</td>\n",
       "    </tr>\n",
       "    <tr>\n",
       "      <th>1</th>\n",
       "      <td>2.748894</td>\n",
       "      <td>0.683820</td>\n",
       "      <td>0.624608</td>\n",
       "    </tr>\n",
       "    <tr>\n",
       "      <th>2</th>\n",
       "      <td>2.748894</td>\n",
       "      <td>0.690801</td>\n",
       "      <td>0.686662</td>\n",
       "    </tr>\n",
       "    <tr>\n",
       "      <th>3</th>\n",
       "      <td>2.748894</td>\n",
       "      <td>0.697783</td>\n",
       "      <td>0.720888</td>\n",
       "    </tr>\n",
       "    <tr>\n",
       "      <th>4</th>\n",
       "      <td>2.748894</td>\n",
       "      <td>0.704764</td>\n",
       "      <td>0.778550</td>\n",
       "    </tr>\n",
       "  </tbody>\n",
       "</table>\n",
       "</div>"
      ],
      "text/plain": [
       "     thetas    alphas     rates\n",
       "0  2.748894  0.676839  0.577140\n",
       "1  2.748894  0.683820  0.624608\n",
       "2  2.748894  0.690801  0.686662\n",
       "3  2.748894  0.697783  0.720888\n",
       "4  2.748894  0.704764  0.778550"
      ]
     },
     "execution_count": 27,
     "metadata": {},
     "output_type": "execute_result"
    }
   ],
   "source": [
    "data_dense = [[],[],[]]\n",
    "\n",
    "\n",
    "for i in range(0,len(thetas_rad)):\n",
    "    for j in range(0,len(alphas_rad[0])):\n",
    "        data_dense[0].append(thetas_rad[i])\n",
    "        data_dense[1].append(alphas_rad[i][j])\n",
    "        #print(alphas_rad[i][j])\n",
    "        data_dense[2].append(rates[i][j])\n",
    "\n",
    "d_dense = np.array(data_dense)\n",
    "d_dense = d_dense.transpose()\n",
    "df_dense = pd.DataFrame(d_dense,columns = [\"thetas\",\"alphas\",\"rates\"])\n",
    "df_dense.head()"
   ]
  },
  {
   "cell_type": "code",
   "execution_count": null,
   "metadata": {},
   "outputs": [],
   "source": []
  },
  {
   "cell_type": "code",
   "execution_count": 28,
   "metadata": {},
   "outputs": [
    {
     "name": "stderr",
     "output_type": "stream",
     "text": [
      "Info in <TCanvas::Print>: png file ../Graphs/Graph_Reconstruction/Reconstruction_dense.png has been created\n"
     ]
    }
   ],
   "source": [
    "nbinx = 60\n",
    "nbiny = 60\n",
    "inf_x = -20\n",
    "sup_x = 20\n",
    "inf_y = -20\n",
    "sup_y = 20\n",
    "dimx = (sup_x-inf_x)/nbinx\n",
    "dimy = (sup_y-inf_y)/nbiny\n",
    "passo = (sup_x - inf_x) / nbinx\n",
    "\n",
    "\n",
    "\n",
    "c3 = ROOT.TCanvas(\"ciao\",\"ciao\",1000,1000,1000,1000)\n",
    "for i in range(0,alpha_giro*len(thetas_rad)):\n",
    "    for j in range(0,nbinx):\n",
    "        x = inf_x + passo * j + passo/2 \n",
    "        y=retta(m_coeff(df_dense[\"thetas\"][i]),df_dense[\"alphas\"][i],x,radius)\n",
    "        h2_reconstruction.Fill(x,y,df_dense[\"rates\"][i])\n",
    "        #h2_reconstruction_dense.Fill(x,y,df_dense[\"rates\"][i])\n",
    "\n",
    "ROOT.gStyle.SetPalette(ROOT.kInvertedDarkBodyRadiator)\n",
    "h2_reconstruction.SetTitle(\"With Dense\")\n",
    "h2_reconstruction.Draw(\"COLZ\")\n",
    "h2_reconstruction.SetStats(0)\n",
    "\n",
    "c3.Print(path_graph+\"Reconstruction_dense.png\",\"png\")\n"
   ]
  },
  {
   "cell_type": "markdown",
   "metadata": {},
   "source": [
    "# Plotto ricostruzione grafica attorno al massimo con aggiunte anche le DenseMeasures"
   ]
  },
  {
   "cell_type": "code",
   "execution_count": 30,
   "metadata": {},
   "outputs": [
    {
     "name": "stderr",
     "output_type": "stream",
     "text": [
      "Warning in <TCanvas::Constructor>: Deleting canvas with same name: ciao4\n",
      "Info in <TCanvas::Print>: ,png file ../Graphs/Graph_Reconstruction/Reconstruction_cut_with_dense.png has been created\n"
     ]
    }
   ],
   "source": [
    "inf_x_cut = -4\n",
    "sup_x_cut = 4\n",
    "inf_y_cut = -17\n",
    "sup_y_cut = -8\n",
    "nbinx_cut = int((sup_x_cut - inf_x_cut)/dimx)\n",
    "nbiny_cut = int((sup_y_cut - inf_y_cut)/dimy)\n",
    "\n",
    "c4 = ROOT.TCanvas(\"ciao4\",\"ciao4\",1000,1000,1000,1000)\n",
    "#h2_cut = ROOT.TH2F(\"h2_cut\",\"h2_cut\",nbinx_cut,inf_x_cut,sup_x_cut,nbiny_cut,inf_y_cut,sup_y_cut)\n",
    "\n",
    "for i in range(0,alpha_giro*len(thetas_rad)):\n",
    "    for j in range(0,nbinx):\n",
    "        x = inf_x + passo * j + passo/2 \n",
    "        y=retta(m_coeff(df_dense[\"thetas\"][i]),df_dense[\"alphas\"][i],x,radius)\n",
    "        h2_cut.Fill(x,y,df_dense[\"rates\"][i])\n",
    "\n",
    "h2_cut.SetStats(0)\n",
    "h2_cut.SetTitle(\"No Dense Cut\")\n",
    "h2_cut.Draw(\"COLZ\")\n",
    "c4.Print(path_graph+\"Reconstruction_cut_with_dense.png\",\",png\")"
   ]
  },
  {
   "cell_type": "markdown",
   "metadata": {},
   "source": [
    " # Plotto proiezioni dell'istogramma con aggiunte anche le DenseMeasures"
   ]
  },
  {
   "cell_type": "code",
   "execution_count": 31,
   "metadata": {},
   "outputs": [
    {
     "name": "stdout",
     "output_type": "stream",
     "text": [
      "Content_Maximum_Bin: 106\n",
      "X_max:8   Y_max:7\n"
     ]
    },
    {
     "name": "stderr",
     "output_type": "stream",
     "text": [
      "Warning in <TROOT::Append>: Replacing existing TH1: projX (Potential memory leak).\n",
      "Warning in <TROOT::Append>: Replacing existing TH1: projY (Potential memory leak).\n",
      "Info in <TCanvas::Print>: png file ../Graphs/Graph_Reconstruction/Projections_with_dense.png has been created\n"
     ]
    }
   ],
   "source": [
    "#I bin si contano da in basso o da sinistra contando anche una colonna fuori e partendo da 0.\n",
    "\n",
    "max_bin =h2_cut.GetMaximumBin()\n",
    "x_max = round((max_bin/(nbinx_cut+2) - int(max_bin/(nbinx_cut+2)))*(nbinx_cut+2))\n",
    "y_max = int(max_bin/(nbinx_cut+2))\n",
    "\n",
    "print(\"Content_Maximum_Bin: {}\".format(max_bin))\n",
    "print(\"X_max:{}   Y_max:{}\".format(x_max,y_max))\n",
    "\n",
    "projX_with_dense = ROOT.TH1F(\"projX\",\"projx\",nbinx_cut,inf_x_cut,sup_x_cut)\n",
    "projY_with_dense = ROOT.TH1F(\"projY\",\"projY\",nbiny_cut,inf_y_cut,sup_y_cut)\n",
    "\n",
    "for i in range(1,nbinx_cut+1):\n",
    "    #print(i + y_max*(nbinx_cut+2))\n",
    "    #print(h2_cut.GetBinContent(i + y_max*(nbinx_cut+2)))\n",
    "    projX_with_dense.SetBinContent(i, h2_cut.GetBinContent(i + y_max*(nbinx_cut+2)))\n",
    "    \n",
    "index = []\n",
    "for k in range(1,nbiny_cut+1):\n",
    "    index.append(x_max+k*(nbinx_cut+2))   \n",
    "\n",
    "for j in range(1, nbiny_cut+1):\n",
    "    #print(j)\n",
    "    #print(h2_cut.GetBinContent(index[j-1]))\n",
    "    projY_with_dense.SetBinContent(j, h2_cut.GetBinContent(index[j-1]))\n",
    "\n",
    "c4 = ROOT.TCanvas(\"projc2_with_dense\",\"projc2_with_dense\",1000,1000,1000,1000)\n",
    "c4.Divide(1,2)\n",
    "\n",
    "c4.cd(1)\n",
    "projX_with_dense.Draw(\"\")\n",
    "c4.cd(2)\n",
    "projY_with_dense.Draw(\"\")\n",
    "c4.Print(path_graph+\"Projections_with_dense.png\",\"png\")"
   ]
  },
  {
   "cell_type": "markdown",
   "metadata": {},
   "source": [
    "# Plotto ricostruzione grafica fatta solo con le DenseMeasures"
   ]
  },
  {
   "cell_type": "code",
   "execution_count": 32,
   "metadata": {},
   "outputs": [],
   "source": [
    "nbinx = 60\n",
    "nbiny = 60\n",
    "inf_x = -20\n",
    "sup_x = 20\n",
    "inf_y = -20\n",
    "sup_y = 20\n",
    "dimx = (sup_x-inf_x)/nbinx\n",
    "dimy = (sup_y-inf_y)/nbiny\n",
    "passo = (sup_x - inf_x) / nbinx\n",
    "\n",
    "c6 = ROOT.TCanvas(\"c6\",\"c6\",1000,1000,1000,1000)\n",
    "h2_reconstruction_dense = ROOT.TH2F(\"h2_d\",\"h2_d\",nbinx,inf_x,sup_x,nbiny,inf_y,sup_y)\n",
    "\n",
    "for i in range(0,alpha_giro*len(thetas_rad)):\n",
    "    for j in range(0,nbinx):\n",
    "        x = inf_x + passo * j + passo/2 \n",
    "        y=retta(m_coeff(df_dense[\"thetas\"][i]),df_dense[\"alphas\"][i],x,radius)\n",
    "        h2_reconstruction_dense.Fill(x,y,df_dense[\"rates\"][i])"
   ]
  },
  {
   "cell_type": "code",
   "execution_count": 33,
   "metadata": {},
   "outputs": [
    {
     "name": "stderr",
     "output_type": "stream",
     "text": [
      "Info in <TCanvas::Print>: png file ../Graphs/Graph_Reconstruction/Reconstruction_only_dense.png has been created\n"
     ]
    }
   ],
   "source": [
    "ROOT.gStyle.SetPalette(ROOT.kInvertedDarkBodyRadiator)\n",
    "h2_reconstruction_dense.SetTitle(\"No Dense\")\n",
    "h2_reconstruction_dense.Draw(\"COLZ\")\n",
    "h2_reconstruction_dense.SetStats(0)\n",
    "\n",
    "c6.Print(path_graph+\"Reconstruction_only_dense.png\",\"png\")"
   ]
  },
  {
   "cell_type": "markdown",
   "metadata": {},
   "source": [
    "# Plotto ricostruzione grafica attorno al massimo solo con le Dense"
   ]
  },
  {
   "cell_type": "code",
   "execution_count": 34,
   "metadata": {},
   "outputs": [
    {
     "name": "stderr",
     "output_type": "stream",
     "text": [
      "Info in <TCanvas::Print>: ,png file ../Graphs/Graph_Reconstruction/Reconstruction_cut_only_dense.png has been created\n"
     ]
    }
   ],
   "source": [
    "inf_x_cut = -4\n",
    "sup_x_cut = 4\n",
    "inf_y_cut = -17\n",
    "sup_y_cut = -8\n",
    "nbinx_cut = int((sup_x_cut - inf_x_cut)/dimx)\n",
    "nbiny_cut = int((sup_y_cut - inf_y_cut)/dimy)\n",
    "\n",
    "c7 = ROOT.TCanvas(\"ciao7\",\"ciao7\",1000,1000,1000,1000)\n",
    "h2_cut_only_dense = ROOT.TH2F(\"h2_cut_only_dense\",\"h2_cut_only_dense\",nbinx_cut,inf_x_cut,sup_x_cut,nbiny_cut,inf_y_cut,sup_y_cut)\n",
    "\n",
    "for i in range(0,alpha_giro*len(thetas_rad)):\n",
    "    for j in range(0,nbinx):\n",
    "        x = inf_x + passo * j + passo/2 \n",
    "        y=retta(m_coeff(df_dense[\"thetas\"][i]),df_dense[\"alphas\"][i],x,radius)\n",
    "        h2_cut_only_dense.Fill(x,y,df_dense[\"rates\"][i])\n",
    "\n",
    "h2_cut_only_dense.SetStats(0)\n",
    "h2_cut_only_dense.SetTitle(\"No Dense Cut\")\n",
    "h2_cut_only_dense.Draw(\"COLZ\")\n",
    "c7.Print(path_graph+\"Reconstruction_cut_only_dense.png\",\",png\")"
   ]
  },
  {
   "cell_type": "markdown",
   "metadata": {},
   "source": [
    "# Plotto proiezioni only Dense\n"
   ]
  },
  {
   "cell_type": "code",
   "execution_count": 35,
   "metadata": {},
   "outputs": [
    {
     "name": "stdout",
     "output_type": "stream",
     "text": [
      "Content_Maximum_Bin: 106\n",
      "X_max:8   Y_max:7\n"
     ]
    },
    {
     "name": "stderr",
     "output_type": "stream",
     "text": [
      "Info in <TCanvas::Print>: png file ../Graphs/Graph_Reconstruction/Projections_only_dense.png has been created\n"
     ]
    }
   ],
   "source": [
    "#Plotto proiezioni \n",
    "#Plotto proiezioni\n",
    "\n",
    "#I bin si contano da in basso o da sinistra contando anche una colonna fuori e partendo da 0.\n",
    "\n",
    "max_bin =h2_cut_only_dense.GetMaximumBin()\n",
    "x_max = round((max_bin/(nbinx_cut+2) - int(max_bin/(nbinx_cut+2)))*(nbinx_cut+2))\n",
    "y_max = int(max_bin/(nbinx_cut+2))\n",
    "\n",
    "print(\"Content_Maximum_Bin: {}\".format(max_bin))\n",
    "print(\"X_max:{}   Y_max:{}\".format(x_max,y_max))\n",
    "\n",
    "\n",
    "projX_only_dense = ROOT.TH1F(\"projX_only_dense\",\"projx_only_dense\",nbinx_cut,inf_x_cut,sup_x_cut)\n",
    "projY_only_dense = ROOT.TH1F(\"projY_only_dense\",\"projY_only_dense\",nbiny_cut,inf_y_cut,sup_y_cut)\n",
    "\n",
    "for i in range(1,nbinx_cut+1):\n",
    "    #print(i + y_max*(nbinx_cut+2))\n",
    "    #print(h2_cut.GetBinContent(i + y_max*(nbinx_cut+2)))\n",
    "    projX_only_dense.SetBinContent(i, h2_cut_only_dense.GetBinContent(i + y_max*(nbinx_cut+2)))\n",
    "    \n",
    "index = []\n",
    "for k in range(1,nbiny_cut+1):\n",
    "    index.append(x_max+k*(nbinx_cut+2))   \n",
    "\n",
    "for j in range(1, nbiny_cut+1):\n",
    "    #print(j)\n",
    "    #print(h2_cut.GetBinContent(index[j-1]))\n",
    "    projY_only_dense.SetBinContent(j, h2_cut_only_dense.GetBinContent(index[j-1]))\n",
    "    \n",
    "    \n",
    "c8 = ROOT.TCanvas(\"projc28\",\"projc28\",1000,1000,1000,1000)\n",
    "c8.Divide(1,2)\n",
    "\n",
    "c8.cd(1)\n",
    "projX_only_dense.Draw(\"\")\n",
    "c8.cd(2)\n",
    "projY_only_dense.Draw(\"\")\n",
    "c8.Print(path_graph+\"Projections_only_dense.png\",\"png\")"
   ]
  },
  {
   "cell_type": "code",
   "execution_count": null,
   "metadata": {},
   "outputs": [],
   "source": []
  }
 ],
 "metadata": {
  "kernelspec": {
   "display_name": "Python 3",
   "language": "python",
   "name": "python3"
  },
  "language_info": {
   "codemirror_mode": {
    "name": "ipython",
    "version": 3
   },
   "file_extension": ".py",
   "mimetype": "text/x-python",
   "name": "python",
   "nbconvert_exporter": "python",
   "pygments_lexer": "ipython3",
   "version": "3.6.8"
  }
 },
 "nbformat": 4,
 "nbformat_minor": 2
}
